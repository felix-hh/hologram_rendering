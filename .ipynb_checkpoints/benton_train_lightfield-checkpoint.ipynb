{
 "cells": [
  {
   "cell_type": "code",
   "execution_count": 23,
   "metadata": {},
   "outputs": [
    {
     "name": "stdout",
     "output_type": "stream",
     "text": [
      "The autoreload extension is already loaded. To reload it, use:\n",
      "  %reload_ext autoreload\n"
     ]
    }
   ],
   "source": [
    "import os\n",
    "import numpy as np\n",
    "import matplotlib.pyplot as plt\n",
    "import cv2\n",
    "from PIL import Image\n",
    "from pathlib import Path\n",
    "\n",
    "from lightfield_canvas import DisplayLF\n",
    "\n",
    "%load_ext autoreload\n",
    "%autoreload 2"
   ]
  },
  {
   "cell_type": "code",
   "execution_count": 24,
   "metadata": {},
   "outputs": [],
   "source": [
    "# The dataset contains images captured with a camera following a zig-zag path, where the camera moves on\n",
    "# horizontal lines, and when complete, it shifts up one level and repeats in the opposite direction.\n",
    "\n",
    "data_folder = os.path.join(os.getenv(\"FELIX_DATA\"), \"LensCalibrated_6s\",\"LensCalibrated_6s\",\"Registered-ForFelix\")\n",
    "IMAGES_PER_LINE = 13\n",
    "\n",
    "IMAGE_DIMENSIONS = (1770, 1476)\n",
    "\n",
    "DESIRED_DIMENSIONS = (572, 440)\n",
    "if not DESIRED_DIMENSIONS:\n",
    "    DESIRED_DIMENSIONS = IMAGE_DIMENSIONS\n",
    "\n"
   ]
  },
  {
   "cell_type": "code",
   "execution_count": 25,
   "metadata": {},
   "outputs": [],
   "source": [
    "def load_lightfield_from_folder(folder_path, images_per_row):\n",
    "    \"\"\"\n",
    "    Generates a lightfield from a folder of images\n",
    "    The names of the images must be such that everything is in order of capture, as if the images had been\n",
    "    taken on a zig zag path with the camera. May need to play around with move axis and reversing indices.\n",
    "    \n",
    "    input: \n",
    "    folder_path to folder containing only images that can be sorted without key\n",
    "    images_per_row number of images per row of the lightfield.\n",
    "    \n",
    "    output: \n",
    "    lightfield of shape n_columns X n_rows X image.shape\n",
    "    \"\"\"\n",
    "    image_paths = sorted(list(Path(folder_path).iterdir()))\n",
    "    n_images = len(image_paths)\n",
    "    images_per_column = int(n_images / images_per_row)\n",
    "    \n",
    "    image_dimensions = list(np.array(Image.open(image_paths[0])).shape)\n",
    "    lightfield = np.empty([images_per_column, images_per_row] + image_dimensions)\n",
    "    \n",
    "    for image_idx, image_path in enumerate(image_paths):\n",
    "        v_idx, u_idx = image_idx%images_per_row, image_idx//images_per_row\n",
    "        \n",
    "        if u_idx %2 == 0: # maintain u_idx in different zig-zag directions left-right and right-left.\n",
    "            v_idx = images_per_row - v_idx -1\n",
    "            \n",
    "        lightfield[u_idx, v_idx] = np.array(Image.open(image_path))\n",
    "        \n",
    "    return lightfield            "
   ]
  },
  {
   "cell_type": "code",
   "execution_count": 26,
   "metadata": {},
   "outputs": [
    {
     "name": "stdout",
     "output_type": "stream",
     "text": [
      "Lightfield ready\n"
     ]
    }
   ],
   "source": [
    "raw_lightfield = load_lightfield_from_folder(data_folder, IMAGES_PER_LINE)\n",
    "\n",
    "#load new lightfield instead. \n",
    "\n",
    "## replace raw lightfield for resized lightfield\n",
    "# image_data = cv2.resize(image_data, DESIRED_DIMENSIONS)\n",
    "# look carefully at the preprocessing above. \n",
    "\n",
    "raw_lightfield = np.load(\"2021_04_15_Benton_raw_lightfield.npy\", allow_pickle= True)\n",
    "\n",
    "print(\"Lightfield ready\")"
   ]
  },
  {
   "cell_type": "code",
   "execution_count": 27,
   "metadata": {},
   "outputs": [],
   "source": [
    "n_cols, n_rows, *_ = raw_lightfield.shape"
   ]
  },
  {
   "cell_type": "code",
   "execution_count": 28,
   "metadata": {},
   "outputs": [],
   "source": [
    "def resize_lightfield(raw_lightfield, desired_size): # -> lightfield\n",
    "    \"\"\"\n",
    "    Applies cv2.resize to each image of the lightfield\n",
    "    input:\n",
    "    raw_lightfield to be resized\n",
    "    desired_size of images in the output in width X height tuple format\n",
    "    output:\n",
    "    lightfield with appropiate image size\n",
    "    \"\"\"\n",
    "    n_cols, n_rows, *_ = raw_lightfield.shape\n",
    "    output_lightfield = np.empty([n_cols, n_rows] + list(desired_size)[::-1] + [3])\n",
    "    \n",
    "    \n",
    "    for i, row in enumerate(raw_lightfield):\n",
    "        for j, image_data in enumerate(row):\n",
    "            resized_image_data = cv2.resize(image_data, desired_size)\n",
    "            output_lightfield[i, j] = resized_image_data\n",
    "            \n",
    "    return output_lightfield\n",
    "\n",
    "lightfield = resize_lightfield(raw_lightfield, DESIRED_DIMENSIONS)"
   ]
  },
  {
   "cell_type": "code",
   "execution_count": 29,
   "metadata": {},
   "outputs": [
    {
     "data": {
      "application/vnd.jupyter.widget-view+json": {
       "model_id": "f35588e8a455416c851d3c19c78f3570",
       "version_major": 2,
       "version_minor": 0
      },
      "text/plain": [
       "HBox(children=(DisplayLF(height=441, width=531), Output(layout=Layout(border='1px solid black', width='200px')…"
      ]
     },
     "metadata": {},
     "output_type": "display_data"
    }
   ],
   "source": [
    "lightfield_display = DisplayLF(lightfield, width= 177*3, height= 147*3, sensitivity= 2)\n",
    "lightfield_display.show()"
   ]
  },
  {
   "cell_type": "markdown",
   "metadata": {},
   "source": [
    "# Now, use the Ollie's renderer to create new lightfields"
   ]
  },
  {
   "cell_type": "code",
   "execution_count": 30,
   "metadata": {},
   "outputs": [],
   "source": [
    "import torch\n",
    "import tqdm\n",
    "import pytorch3d\n",
    "\n",
    "from pytorch3d.renderer.cameras import SfMPerspectiveCameras, OpenGLOrthographicCameras\n",
    "from pytorch3d.renderer import look_at_view_transform\n",
    "import LightfieldViewer as LV\n",
    "\n",
    "# Set the cuda device \n",
    "device = torch.device(\"cuda:1\")\n",
    "torch.cuda.set_device(device)\n",
    "dtype = torch.uint8"
   ]
  },
  {
   "cell_type": "markdown",
   "metadata": {},
   "source": [
    "(this requires pytorch3d)"
   ]
  },
  {
   "cell_type": "markdown",
   "metadata": {},
   "source": [
    "First, generate the cameras and capture the lightfield"
   ]
  },
  {
   "cell_type": "code",
   "execution_count": 31,
   "metadata": {},
   "outputs": [],
   "source": [
    "### CONFIG ###\n",
    "to_render_lightfield = np.array(lightfield, dtype= np.float32)/255 #divide by 255 since original format is uint8.\n",
    "dtype = torch.float32 # must be float\n",
    "zsep = -.1; # the separation between xy and uv planes\n",
    "output_dimensions = (572, 440); # number of pixels in rendererd views\n",
    "Np = max(output_dimensions)\n",
    "Nv = 101; # the number of vertices across for the planar mesh\n",
    "\n",
    "### ZOOM ###\n",
    "cam_dist = 2\n",
    "\n",
    "### ANGLE ###\n",
    "angle_min = -20\n",
    "angle_max = 20\n",
    "angle_views = 7\n",
    "\n",
    "### ELEVATION ###\n",
    "elev_min = -20\n",
    "elev_max = 20\n",
    "elev_views = 5\n",
    "\n",
    "### CAMERA ###\n",
    "asp = 1;\n",
    "focal_length = [1, 1/asp];\n",
    "principal_point = [0, 0]\n",
    "\n",
    "views = 20;\n",
    "pp = torch.tensor(principal_point).expand(views,2)\n",
    "\n",
    "#Future: Can  use different distances for zooming. would be 6-dim array :)\n",
    "#zoom_min\n",
    "#zoom_max\n",
    "#zoom_views"
   ]
  },
  {
   "cell_type": "code",
   "execution_count": 32,
   "metadata": {},
   "outputs": [
    {
     "name": "stdout",
     "output_type": "stream",
     "text": [
      "(0, 0) (66, 66)\n"
     ]
    }
   ],
   "source": [
    "def pad_to_shape(lightfield, new_shape):\n",
    "    _, _, current_height, current_width, _ = lightfield.shape\n",
    "    new_width, new_height = new_shape\n",
    "\n",
    "    def get_pad(old_dim, new_dim):\n",
    "        return (int(np.ceil((new_dim-old_dim)/2)), (new_dim-old_dim)//2)\n",
    "\n",
    "    width_pad = get_pad(current_width, new_width)\n",
    "    height_pad = get_pad(current_height, new_height)\n",
    "\n",
    "    print (width_pad, height_pad)\n",
    "\n",
    "    if not all([value >= 0 for pad_tuple in (width_pad, height_pad) for value in pad_tuple]):\n",
    "        raise Exception(\"The requested padded shape is smaller than the current shape, but padding can only increase dimensions\")\n",
    "\n",
    "    lightfield = np.pad(lightfield, ((0,0), (0,0), height_pad, width_pad, (0,0)))\n",
    "\n",
    "    return lightfield\n",
    "\n",
    "to_render_lightfield = pad_to_shape(to_render_lightfield, (Np, Np))"
   ]
  },
  {
   "cell_type": "code",
   "execution_count": 33,
   "metadata": {},
   "outputs": [],
   "source": [
    "def get_RTs(angles, elevs, cam_dist):\n",
    "    \"\"\"\n",
    "    Returns the rotation and translation transformations for an array of cameras \n",
    "    on a meshgrid of angles x elevs\n",
    "    \n",
    "    Input: \n",
    "    angles: numpy array of angles to sample. Nx array\n",
    "    elevs: numpy array of elevations to sample. Ny array\n",
    "    cam_dist: the distance of the camera to the object\n",
    "    \n",
    "    Output: \n",
    "    Rs: rotation transformations. (Nx, Ny, 3, 3)\n",
    "    Ts: translation transformations. (Nx, Ny, 3)\n",
    "    \n",
    "    TODO: handle non-array values for angles, elevs\n",
    "    \"\"\"\n",
    "    \n",
    "    \n",
    "    angle_views = len(angles)\n",
    "    elev_views = len(elevs)\n",
    "    \n",
    "    dist = cam_dist*torch.ones(angle_views, dtype=dtype).view(angle_views) # distance from camera to the object\n",
    "    angles = torch.tensor(angles, dtype=dtype).view(angle_views)  # angle of azimuth rotation in degrees\n",
    "    elevs = torch.tensor(elevs, dtype=dtype).view(elev_views)\n",
    "\n",
    "    elevs, angles = torch.meshgrid(elevs, angles)\n",
    "\n",
    "    Rs = torch.empty((elev_views, angle_views, 3, 3))\n",
    "    Ts = torch.empty((elev_views, angle_views, 3))\n",
    "\n",
    "    for k in range(elev_views):\n",
    "        Rs[k], Ts[k] = look_at_view_transform(dist, elevs[k], angles[k], device=device) # (views,3,3), (views,3) \n",
    "\n",
    "    return Rs, Ts\n"
   ]
  },
  {
   "cell_type": "code",
   "execution_count": 34,
   "metadata": {},
   "outputs": [],
   "source": [
    "def get_cameras(Rs, Ts, asp, focal_length):\n",
    "    \"\"\"\n",
    "    Returns a list of PerspectiveCameras given Rs and Ts.  \n",
    "    \"\"\"\n",
    "    elev_views = Rs.shape[0]\n",
    "    angle_views = Rs.shape[1]\n",
    "    #generate focal length and principal point\n",
    "    fl = cam_dist*torch.tensor(focal_length).expand(angle_views,2)\n",
    "    pp = torch.tensor(principal_point).expand(angle_views,2)\n",
    "    \n",
    "    cameras = []\n",
    "\n",
    "    for k in range(Rs.shape[0]):\n",
    "        R, T = Rs[k], Ts[k]\n",
    "        C = SfMPerspectiveCameras(focal_length= fl, principal_point= pp, R= R, T= T, device= device)\n",
    "        cameras.append(C)\n",
    "    \n",
    "    return cameras"
   ]
  },
  {
   "cell_type": "code",
   "execution_count": 35,
   "metadata": {},
   "outputs": [],
   "source": [
    "def get_rendered_views(lightfield, cameras, zsep, Np, Nv, show_progress= False):\n",
    "    \"\"\"\n",
    "    Returns the rendered views for cameras at different angles and elevations. \n",
    "    \"\"\"\n",
    "    results = []\n",
    "    \n",
    "    u_count, v_count, x_count, y_count, c = lightfield.shape\n",
    "\n",
    "    for cams in tqdm.tqdm(cameras, disable= not show_progress): \n",
    "        #create lightfieldViewer\n",
    "        lighfieldViewer = LV.LightfieldViewerModel(device=device,dtype=dtype, init_cam=cams, \n",
    "                                        zsep=zsep, Np=Np, Nv=Nv, scale=2)\n",
    "\n",
    "        # the grid of lightfield coordinates\n",
    "        u = np.linspace(-1,1,u_count) # Nu x 1 regular grid of values\n",
    "        v = np.linspace(-1,1,v_count) # Nv x 1 regular grid of values\n",
    "        x = np.linspace(-1,1,x_count) # Nx x 1 regular grid of values\n",
    "        y = np.linspace(-1,1,y_count) # Ny x 1 regular grid of values\n",
    "\n",
    "        renderedViews = lighfieldViewer(lightfield=lightfield, u=u, v=v, x=x, y=y)\n",
    "        results.append(renderedViews)\n",
    "\n",
    "    results = np.array(results[::-1])\n",
    "    return results"
   ]
  },
  {
   "cell_type": "code",
   "execution_count": 36,
   "metadata": {},
   "outputs": [],
   "source": [
    "angles = np.linspace(angle_min, angle_max, angle_views) # linspace of ashow_progress= degrees\n",
    "elevs = np.linspace(elev_min, elev_max, elev_views) # linspace of elevs\n",
    "\n",
    "Rs, Ts = get_RTs(angles, elevs, cam_dist)\n",
    "cameras = get_cameras(Rs, Ts, asp, focal_length)"
   ]
  },
  {
   "cell_type": "code",
   "execution_count": 37,
   "metadata": {},
   "outputs": [
    {
     "name": "stderr",
     "output_type": "stream",
     "text": [
      "100%|██████████| 5/5 [00:35<00:00,  7.19s/it]\n"
     ]
    }
   ],
   "source": [
    "rendered_views = get_rendered_views(to_render_lightfield, cameras, zsep, Np, Nv, show_progress= True)\n",
    "rendered_views = rendered_views[::-1]"
   ]
  },
  {
   "cell_type": "markdown",
   "metadata": {},
   "source": [
    "Now, display the lightfield"
   ]
  },
  {
   "cell_type": "code",
   "execution_count": 48,
   "metadata": {},
   "outputs": [],
   "source": [
    "def crop_to_shape(lightfield, new_shape):\n",
    "    _, _, current_height, current_width, _ = lightfield.shape\n",
    "    new_width, new_height = new_shape\n",
    "\n",
    "    def get_slice(old_dim, new_dim):\n",
    "        return ((old_dim - new_dim)//2, (old_dim - new_dim)//2 + new_dim)\n",
    "\n",
    "    width_slice = get_slice(current_width, new_width)\n",
    "    height_slice = get_slice(current_height, new_height)\n",
    "\n",
    "    if not all([current_value >= new_value\n",
    "                for current_value, new_value in zip((current_height, current_width), (new_height, new_width))]):\n",
    "        raise Exception(\"The requested cropped shape is bigger than the current shape, but cropping can only decrease dimensions\")\n",
    "\n",
    "    (y0, y1), (x0, x1) = height_slice, width_slice\n",
    "\n",
    "    lightfield = lightfield[:, :, y0 : y1, x0 : x1, :]\n",
    "    return lightfield\n",
    "\n",
    "rendered_views = crop_to_shape(rendered_views, output_dimensions)"
   ]
  },
  {
   "cell_type": "code",
   "execution_count": 49,
   "metadata": {},
   "outputs": [
    {
     "data": {
      "application/vnd.jupyter.widget-view+json": {
       "model_id": "0d1fd9ca424f4f3489316241effe3624",
       "version_major": 2,
       "version_minor": 0
      },
      "text/plain": [
       "HBox(children=(DisplayLF(height=441, width=531), Output(layout=Layout(border='1px solid black', width='200px')…"
      ]
     },
     "metadata": {},
     "output_type": "display_data"
    }
   ],
   "source": [
    "lightfield_display2 = DisplayLF(rendered_views, width= 177*3, height= 147*3, sensitivity= 2)\n",
    "lightfield_display2.show()"
   ]
  },
  {
   "cell_type": "code",
   "execution_count": 50,
   "metadata": {},
   "outputs": [
    {
     "name": "stdout",
     "output_type": "stream",
     "text": [
      "The original lightfield occupies 599 Mb\n",
      "The rendered lightfield occupies 100 Mb\n"
     ]
    }
   ],
   "source": [
    "filesize_original_lightfield = lightfield.itemsize*lightfield.size//1024**2 # MB size\n",
    "filesize_rendered_lightfield = rendered_views.itemsize*rendered_views.size//1024**2 # MB size\n",
    "print(f\"The original lightfield occupies {filesize_original_lightfield} Mb\")\n",
    "print(f\"The rendered lightfield occupies {filesize_rendered_lightfield} Mb\")"
   ]
  },
  {
   "cell_type": "code",
   "execution_count": 55,
   "metadata": {},
   "outputs": [
    {
     "data": {
      "text/plain": [
       "(5, 7, 440, 572, 3)"
      ]
     },
     "execution_count": 55,
     "metadata": {},
     "output_type": "execute_result"
    }
   ],
   "source": [
    "rendered_views.shape"
   ]
  },
  {
   "cell_type": "code",
   "execution_count": 56,
   "metadata": {},
   "outputs": [],
   "source": [
    "output_filename = f\"rendered_views_{elev_views}x{angle_views}x{output_dimensions[0]}x{output_dimensions[1]}.npy\""
   ]
  },
  {
   "cell_type": "code",
   "execution_count": 57,
   "metadata": {},
   "outputs": [],
   "source": [
    "np.save(output_filename, rendered_views)"
   ]
  },
  {
   "cell_type": "code",
   "execution_count": 60,
   "metadata": {},
   "outputs": [
    {
     "data": {
      "application/vnd.jupyter.widget-view+json": {
       "model_id": "c3811c7eca78458badd80aba7c5a1695",
       "version_major": 2,
       "version_minor": 0
      },
      "text/plain": [
       "HBox(children=(DisplayLF(width=500), Output(layout=Layout(border='1px solid black', width='200px'), outputs=({…"
      ]
     },
     "metadata": {},
     "output_type": "display_data"
    }
   ],
   "source": [
    "#Test output has been saved correctly\n",
    "rendered_lightfield = np.load(output_filename)\n",
    "rendered_lightfield = np.nan_to_num(rendered_lightfield)\n",
    "rendered_lightfield_display = DisplayLF(rendered_lightfield, width= 500, height= 500, sensitivity=2)\n",
    "rendered_lightfield_display.show()"
   ]
  },
  {
   "cell_type": "code",
   "execution_count": 63,
   "metadata": {},
   "outputs": [
    {
     "name": "stdout",
     "output_type": "stream",
     "text": [
      "Saved at /mnt/WD6TB/felixh/code/chimera_lightfield/holography_art_rendering/rendered_views/rendered_views_5x7x572x440\n"
     ]
    }
   ],
   "source": [
    "from pathlib import Path\n",
    "\n",
    "\n",
    "output_folder = Path(\".\") / \"rendered_views\" / output_filename[:-4]\n",
    "\n",
    "def save_rendered_views(image_folder):\n",
    "    \n",
    "    image_folder.mkdir(parents= True, exist_ok=True)\n",
    "\n",
    "    for row_idx, row in enumerate(rendered_lightfield):\n",
    "        for column_idx, image_data in enumerate(row):\n",
    "            image = Image.fromarray(np.uint8(image_data*256))\n",
    "            image.save(image_folder / f\"{row_idx:04d}_{column_idx:04d}.png\", format= \"png\", opt= \"yes\", quality= 75)\n",
    "\n",
    "    print(\"Saved at\", str(image_folder.absolute()))\n",
    "\n",
    "save_rendered_views(output_folder)"
   ]
  },
  {
   "cell_type": "code",
   "execution_count": 64,
   "metadata": {},
   "outputs": [
    {
     "name": "stderr",
     "output_type": "stream",
     "text": [
      "\u001b[31m\"GET https://api.box.com/2.0/folders/0\" 401 0\n",
      "{'Date': 'Fri, 23 Apr 2021 17:29:23 GMT', 'Transfer-Encoding': 'chunked', 'Connection': 'keep-alive', 'x-envoy-upstream-service-time': '8', 'Strict-Transport-Security': 'max-age=31536000', 'www-authenticate': 'Bearer realm=\"Service\", error=\"invalid_token\", error_description=\"The access token provided is invalid.\"', 'BOX-REQUEST-ID': '0117443e8117cdfb04253fcbaf2a35f51'}\n",
      "b''\n",
      "\u001b[0m\n",
      "\u001b[31m\"POST https://api.box.com/oauth2/token\" 400 83\n",
      "{'Date': 'Fri, 23 Apr 2021 17:29:23 GMT', 'Content-Type': 'application/json', 'Transfer-Encoding': 'chunked', 'Connection': 'keep-alive', 'Strict-Transport-Security': 'max-age=31536000', 'Set-Cookie': 'box_visitor_id=608303f35fc5a2.30038316; expires=Sat, 23-Apr-2022 17:29:23 GMT; Max-Age=31536000; path=/; domain=.box.com; secure, bv=OPS-44412; expires=Fri, 30-Apr-2021 17:29:23 GMT; Max-Age=604800; path=/; domain=.app.box.com; secure, cn=60; expires=Sat, 23-Apr-2022 17:29:23 GMT; Max-Age=31536000; path=/; domain=.app.box.com; secure, site_preference=desktop; path=/; domain=.box.com; secure', 'Cache-Control': 'no-store'}\n",
      "{'error': 'invalid_client',\n",
      " 'error_description': 'The client credentials are invalid'}\n",
      "\u001b[0m\n"
     ]
    },
    {
     "ename": "BoxOAuthException",
     "evalue": "\nMessage: The client credentials are invalid\nStatus: 400\nURL: https://api.box.com/oauth2/token\nMethod: POST\nHeaders: {'Date': 'Fri, 23 Apr 2021 17:29:23 GMT', 'Content-Type': 'application/json', 'Transfer-Encoding': 'chunked', 'Connection': 'keep-alive', 'Strict-Transport-Security': 'max-age=31536000', 'Set-Cookie': 'box_visitor_id=608303f35fc5a2.30038316; expires=Sat, 23-Apr-2022 17:29:23 GMT; Max-Age=31536000; path=/; domain=.box.com; secure, bv=OPS-44412; expires=Fri, 30-Apr-2021 17:29:23 GMT; Max-Age=604800; path=/; domain=.app.box.com; secure, cn=60; expires=Sat, 23-Apr-2022 17:29:23 GMT; Max-Age=31536000; path=/; domain=.app.box.com; secure, site_preference=desktop; path=/; domain=.box.com; secure', 'Cache-Control': 'no-store'}",
     "output_type": "error",
     "traceback": [
      "\u001b[0;31m---------------------------------------------------------------------------\u001b[0m",
      "\u001b[0;31mBoxAPIException\u001b[0m                           Traceback (most recent call last)",
      "\u001b[0;32m~/.conda/envs/lfrenderer/lib/python3.8/site-packages/boxsdk/auth/oauth2.py\u001b[0m in \u001b[0;36m_execute_token_request\u001b[0;34m(self, data, access_token, expect_refresh_token)\u001b[0m\n\u001b[1;32m    338\u001b[0m         \u001b[0;32mtry\u001b[0m\u001b[0;34m:\u001b[0m\u001b[0;34m\u001b[0m\u001b[0;34m\u001b[0m\u001b[0m\n\u001b[0;32m--> 339\u001b[0;31m             network_response = self._session.request(\n\u001b[0m\u001b[1;32m    340\u001b[0m                 \u001b[0;34m'POST'\u001b[0m\u001b[0;34m,\u001b[0m\u001b[0;34m\u001b[0m\u001b[0;34m\u001b[0m\u001b[0m\n",
      "\u001b[0;32m~/.conda/envs/lfrenderer/lib/python3.8/site-packages/boxsdk/session/session.py\u001b[0m in \u001b[0;36mrequest\u001b[0;34m(self, method, url, **kwargs)\u001b[0m\n\u001b[1;32m    157\u001b[0m         \"\"\"\n\u001b[0;32m--> 158\u001b[0;31m         \u001b[0mresponse\u001b[0m \u001b[0;34m=\u001b[0m \u001b[0mself\u001b[0m\u001b[0;34m.\u001b[0m\u001b[0m_prepare_and_send_request\u001b[0m\u001b[0;34m(\u001b[0m\u001b[0mmethod\u001b[0m\u001b[0;34m,\u001b[0m \u001b[0murl\u001b[0m\u001b[0;34m,\u001b[0m \u001b[0;34m**\u001b[0m\u001b[0mkwargs\u001b[0m\u001b[0;34m)\u001b[0m\u001b[0;34m\u001b[0m\u001b[0;34m\u001b[0m\u001b[0m\n\u001b[0m\u001b[1;32m    159\u001b[0m         \u001b[0;32mreturn\u001b[0m \u001b[0mself\u001b[0m\u001b[0;34m.\u001b[0m\u001b[0mbox_response_constructor\u001b[0m\u001b[0;34m(\u001b[0m\u001b[0mresponse\u001b[0m\u001b[0;34m)\u001b[0m\u001b[0;34m\u001b[0m\u001b[0;34m\u001b[0m\u001b[0m\n",
      "\u001b[0;32m~/.conda/envs/lfrenderer/lib/python3.8/site-packages/boxsdk/session/session.py\u001b[0m in \u001b[0;36m_prepare_and_send_request\u001b[0;34m(self, method, url, headers, auto_session_renewal, expect_json_response, **kwargs)\u001b[0m\n\u001b[1;32m    405\u001b[0m \u001b[0;34m\u001b[0m\u001b[0m\n\u001b[0;32m--> 406\u001b[0;31m         \u001b[0mself\u001b[0m\u001b[0;34m.\u001b[0m\u001b[0m_raise_on_unsuccessful_request\u001b[0m\u001b[0;34m(\u001b[0m\u001b[0mnetwork_response\u001b[0m\u001b[0;34m,\u001b[0m \u001b[0mrequest\u001b[0m\u001b[0;34m)\u001b[0m\u001b[0;34m\u001b[0m\u001b[0;34m\u001b[0m\u001b[0m\n\u001b[0m\u001b[1;32m    407\u001b[0m \u001b[0;34m\u001b[0m\u001b[0m\n",
      "\u001b[0;32m~/.conda/envs/lfrenderer/lib/python3.8/site-packages/boxsdk/session/session.py\u001b[0m in \u001b[0;36m_raise_on_unsuccessful_request\u001b[0;34m(network_response, request)\u001b[0m\n\u001b[1;32m    319\u001b[0m                 \u001b[0;32mpass\u001b[0m\u001b[0;34m\u001b[0m\u001b[0;34m\u001b[0m\u001b[0m\n\u001b[0;32m--> 320\u001b[0;31m             raise BoxAPIException(\n\u001b[0m\u001b[1;32m    321\u001b[0m                 \u001b[0mstatus\u001b[0m\u001b[0;34m=\u001b[0m\u001b[0mnetwork_response\u001b[0m\u001b[0;34m.\u001b[0m\u001b[0mstatus_code\u001b[0m\u001b[0;34m,\u001b[0m\u001b[0;34m\u001b[0m\u001b[0;34m\u001b[0m\u001b[0m\n",
      "\u001b[0;31mBoxAPIException\u001b[0m: Message: The client credentials are invalid\nStatus: 400\nCode: invalid_client\nRequest ID: None\nHeaders: {'Date': 'Fri, 23 Apr 2021 17:29:23 GMT', 'Content-Type': 'application/json', 'Transfer-Encoding': 'chunked', 'Connection': 'keep-alive', 'Strict-Transport-Security': 'max-age=31536000', 'Set-Cookie': 'box_visitor_id=608303f35fc5a2.30038316; expires=Sat, 23-Apr-2022 17:29:23 GMT; Max-Age=31536000; path=/; domain=.box.com; secure, bv=OPS-44412; expires=Fri, 30-Apr-2021 17:29:23 GMT; Max-Age=604800; path=/; domain=.app.box.com; secure, cn=60; expires=Sat, 23-Apr-2022 17:29:23 GMT; Max-Age=31536000; path=/; domain=.app.box.com; secure, site_preference=desktop; path=/; domain=.box.com; secure', 'Cache-Control': 'no-store'}\nURL: https://api.box.com/oauth2/token\nMethod: POST\nContext Info: None",
      "\nThe above exception was the direct cause of the following exception:\n",
      "\u001b[0;31mBoxOAuthException\u001b[0m                         Traceback (most recent call last)",
      "\u001b[0;32m<ipython-input-64-25d6e6e7b2c5>\u001b[0m in \u001b[0;36m<module>\u001b[0;34m\u001b[0m\n\u001b[1;32m     19\u001b[0m \u001b[0;31m# Create the authenticated client\u001b[0m\u001b[0;34m\u001b[0m\u001b[0;34m\u001b[0m\u001b[0;34m\u001b[0m\u001b[0m\n\u001b[1;32m     20\u001b[0m \u001b[0mclient\u001b[0m \u001b[0;34m=\u001b[0m \u001b[0mClient\u001b[0m\u001b[0;34m(\u001b[0m\u001b[0moauth2\u001b[0m\u001b[0;34m)\u001b[0m\u001b[0;34m\u001b[0m\u001b[0;34m\u001b[0m\u001b[0m\n\u001b[0;32m---> 21\u001b[0;31m \u001b[0mroot_folder\u001b[0m \u001b[0;34m=\u001b[0m \u001b[0mclient\u001b[0m\u001b[0;34m.\u001b[0m\u001b[0mfolder\u001b[0m\u001b[0;34m(\u001b[0m\u001b[0;34m'0'\u001b[0m\u001b[0;34m)\u001b[0m\u001b[0;34m.\u001b[0m\u001b[0mget\u001b[0m\u001b[0;34m(\u001b[0m\u001b[0;34m)\u001b[0m\u001b[0;34m\u001b[0m\u001b[0;34m\u001b[0m\u001b[0m\n\u001b[0m",
      "\u001b[0;32m~/.conda/envs/lfrenderer/lib/python3.8/site-packages/boxsdk/util/api_call_decorator.py\u001b[0m in \u001b[0;36mcall\u001b[0;34m(instance, *args, **kwargs)\u001b[0m\n\u001b[1;32m     69\u001b[0m \u001b[0;34m\u001b[0m\u001b[0m\n\u001b[1;32m     70\u001b[0m             \u001b[0mmethod\u001b[0m \u001b[0;34m=\u001b[0m \u001b[0mself\u001b[0m\u001b[0;34m.\u001b[0m\u001b[0m_func_that_makes_an_api_call\u001b[0m\u001b[0;34m.\u001b[0m\u001b[0m__get__\u001b[0m\u001b[0;34m(\u001b[0m\u001b[0minstance\u001b[0m\u001b[0;34m,\u001b[0m \u001b[0mowner\u001b[0m\u001b[0;34m)\u001b[0m\u001b[0;34m\u001b[0m\u001b[0;34m\u001b[0m\u001b[0m\n\u001b[0;32m---> 71\u001b[0;31m             \u001b[0;32mreturn\u001b[0m \u001b[0mmethod\u001b[0m\u001b[0;34m(\u001b[0m\u001b[0;34m*\u001b[0m\u001b[0margs\u001b[0m\u001b[0;34m,\u001b[0m \u001b[0;34m**\u001b[0m\u001b[0mkwargs\u001b[0m\u001b[0;34m)\u001b[0m\u001b[0;34m\u001b[0m\u001b[0;34m\u001b[0m\u001b[0m\n\u001b[0m\u001b[1;32m     72\u001b[0m \u001b[0;34m\u001b[0m\u001b[0m\n\u001b[1;32m     73\u001b[0m         \u001b[0;31m# Since the caller passed a non-`None` instance to `__get__()`, they\u001b[0m\u001b[0;34m\u001b[0m\u001b[0;34m\u001b[0m\u001b[0;34m\u001b[0m\u001b[0m\n",
      "\u001b[0;32m~/.conda/envs/lfrenderer/lib/python3.8/site-packages/boxsdk/object/item.py\u001b[0m in \u001b[0;36mget\u001b[0;34m(self, fields, etag)\u001b[0m\n\u001b[1;32m    161\u001b[0m         \u001b[0mself\u001b[0m\u001b[0;34m.\u001b[0m\u001b[0mvalidate_item_id\u001b[0m\u001b[0;34m(\u001b[0m\u001b[0mself\u001b[0m\u001b[0;34m.\u001b[0m\u001b[0m_object_id\u001b[0m\u001b[0;34m)\u001b[0m\u001b[0;34m\u001b[0m\u001b[0;34m\u001b[0m\u001b[0m\n\u001b[1;32m    162\u001b[0m         \u001b[0mheaders\u001b[0m \u001b[0;34m=\u001b[0m \u001b[0;34m{\u001b[0m\u001b[0;34m'If-None-Match'\u001b[0m\u001b[0;34m:\u001b[0m \u001b[0metag\u001b[0m\u001b[0;34m}\u001b[0m \u001b[0;32mif\u001b[0m \u001b[0metag\u001b[0m \u001b[0;32mis\u001b[0m \u001b[0;32mnot\u001b[0m \u001b[0;32mNone\u001b[0m \u001b[0;32melse\u001b[0m \u001b[0;32mNone\u001b[0m\u001b[0;34m\u001b[0m\u001b[0;34m\u001b[0m\u001b[0m\n\u001b[0;32m--> 163\u001b[0;31m         \u001b[0;32mreturn\u001b[0m \u001b[0msuper\u001b[0m\u001b[0;34m(\u001b[0m\u001b[0mItem\u001b[0m\u001b[0;34m,\u001b[0m \u001b[0mself\u001b[0m\u001b[0;34m)\u001b[0m\u001b[0;34m.\u001b[0m\u001b[0mget\u001b[0m\u001b[0;34m(\u001b[0m\u001b[0mfields\u001b[0m\u001b[0;34m=\u001b[0m\u001b[0mfields\u001b[0m\u001b[0;34m,\u001b[0m \u001b[0mheaders\u001b[0m\u001b[0;34m=\u001b[0m\u001b[0mheaders\u001b[0m\u001b[0;34m)\u001b[0m\u001b[0;34m\u001b[0m\u001b[0;34m\u001b[0m\u001b[0m\n\u001b[0m\u001b[1;32m    164\u001b[0m \u001b[0;34m\u001b[0m\u001b[0m\n\u001b[1;32m    165\u001b[0m     \u001b[0;34m@\u001b[0m\u001b[0mapi_call\u001b[0m\u001b[0;34m\u001b[0m\u001b[0;34m\u001b[0m\u001b[0m\n",
      "\u001b[0;32m~/.conda/envs/lfrenderer/lib/python3.8/site-packages/boxsdk/util/api_call_decorator.py\u001b[0m in \u001b[0;36mcall\u001b[0;34m(instance, *args, **kwargs)\u001b[0m\n\u001b[1;32m     69\u001b[0m \u001b[0;34m\u001b[0m\u001b[0m\n\u001b[1;32m     70\u001b[0m             \u001b[0mmethod\u001b[0m \u001b[0;34m=\u001b[0m \u001b[0mself\u001b[0m\u001b[0;34m.\u001b[0m\u001b[0m_func_that_makes_an_api_call\u001b[0m\u001b[0;34m.\u001b[0m\u001b[0m__get__\u001b[0m\u001b[0;34m(\u001b[0m\u001b[0minstance\u001b[0m\u001b[0;34m,\u001b[0m \u001b[0mowner\u001b[0m\u001b[0;34m)\u001b[0m\u001b[0;34m\u001b[0m\u001b[0;34m\u001b[0m\u001b[0m\n\u001b[0;32m---> 71\u001b[0;31m             \u001b[0;32mreturn\u001b[0m \u001b[0mmethod\u001b[0m\u001b[0;34m(\u001b[0m\u001b[0;34m*\u001b[0m\u001b[0margs\u001b[0m\u001b[0;34m,\u001b[0m \u001b[0;34m**\u001b[0m\u001b[0mkwargs\u001b[0m\u001b[0;34m)\u001b[0m\u001b[0;34m\u001b[0m\u001b[0;34m\u001b[0m\u001b[0m\n\u001b[0m\u001b[1;32m     72\u001b[0m \u001b[0;34m\u001b[0m\u001b[0m\n\u001b[1;32m     73\u001b[0m         \u001b[0;31m# Since the caller passed a non-`None` instance to `__get__()`, they\u001b[0m\u001b[0;34m\u001b[0m\u001b[0;34m\u001b[0m\u001b[0;34m\u001b[0m\u001b[0m\n",
      "\u001b[0;32m~/.conda/envs/lfrenderer/lib/python3.8/site-packages/boxsdk/object/base_object.py\u001b[0m in \u001b[0;36mget\u001b[0;34m(self, fields, headers)\u001b[0m\n\u001b[1;32m     83\u001b[0m         \u001b[0murl\u001b[0m \u001b[0;34m=\u001b[0m \u001b[0mself\u001b[0m\u001b[0;34m.\u001b[0m\u001b[0mget_url\u001b[0m\u001b[0;34m(\u001b[0m\u001b[0;34m)\u001b[0m\u001b[0;34m\u001b[0m\u001b[0;34m\u001b[0m\u001b[0m\n\u001b[1;32m     84\u001b[0m         \u001b[0mparams\u001b[0m \u001b[0;34m=\u001b[0m \u001b[0;34m{\u001b[0m\u001b[0;34m'fields'\u001b[0m\u001b[0;34m:\u001b[0m \u001b[0;34m','\u001b[0m\u001b[0;34m.\u001b[0m\u001b[0mjoin\u001b[0m\u001b[0;34m(\u001b[0m\u001b[0mfields\u001b[0m\u001b[0;34m)\u001b[0m\u001b[0;34m}\u001b[0m \u001b[0;32mif\u001b[0m \u001b[0mfields\u001b[0m \u001b[0;32melse\u001b[0m \u001b[0;32mNone\u001b[0m\u001b[0;34m\u001b[0m\u001b[0;34m\u001b[0m\u001b[0m\n\u001b[0;32m---> 85\u001b[0;31m         \u001b[0mbox_response\u001b[0m \u001b[0;34m=\u001b[0m \u001b[0mself\u001b[0m\u001b[0;34m.\u001b[0m\u001b[0m_session\u001b[0m\u001b[0;34m.\u001b[0m\u001b[0mget\u001b[0m\u001b[0;34m(\u001b[0m\u001b[0murl\u001b[0m\u001b[0;34m,\u001b[0m \u001b[0mparams\u001b[0m\u001b[0;34m=\u001b[0m\u001b[0mparams\u001b[0m\u001b[0;34m,\u001b[0m \u001b[0mheaders\u001b[0m\u001b[0;34m=\u001b[0m\u001b[0mheaders\u001b[0m\u001b[0;34m)\u001b[0m\u001b[0;34m\u001b[0m\u001b[0;34m\u001b[0m\u001b[0m\n\u001b[0m\u001b[1;32m     86\u001b[0m         return self.translator.translate(\n\u001b[1;32m     87\u001b[0m             \u001b[0msession\u001b[0m\u001b[0;34m=\u001b[0m\u001b[0mself\u001b[0m\u001b[0;34m.\u001b[0m\u001b[0m_session\u001b[0m\u001b[0;34m,\u001b[0m\u001b[0;34m\u001b[0m\u001b[0;34m\u001b[0m\u001b[0m\n",
      "\u001b[0;32m~/.conda/envs/lfrenderer/lib/python3.8/site-packages/boxsdk/session/session.py\u001b[0m in \u001b[0;36mget\u001b[0;34m(self, url, **kwargs)\u001b[0m\n\u001b[1;32m    100\u001b[0m             \u001b[0;31m`\u001b[0m\u001b[0municode\u001b[0m\u001b[0;31m`\u001b[0m\u001b[0;34m\u001b[0m\u001b[0;34m\u001b[0m\u001b[0m\n\u001b[1;32m    101\u001b[0m         \"\"\"\n\u001b[0;32m--> 102\u001b[0;31m         \u001b[0;32mreturn\u001b[0m \u001b[0mself\u001b[0m\u001b[0;34m.\u001b[0m\u001b[0mrequest\u001b[0m\u001b[0;34m(\u001b[0m\u001b[0;34m'GET'\u001b[0m\u001b[0;34m,\u001b[0m \u001b[0murl\u001b[0m\u001b[0;34m,\u001b[0m \u001b[0;34m**\u001b[0m\u001b[0mkwargs\u001b[0m\u001b[0;34m)\u001b[0m\u001b[0;34m\u001b[0m\u001b[0;34m\u001b[0m\u001b[0m\n\u001b[0m\u001b[1;32m    103\u001b[0m \u001b[0;34m\u001b[0m\u001b[0m\n\u001b[1;32m    104\u001b[0m     \u001b[0;32mdef\u001b[0m \u001b[0mpost\u001b[0m\u001b[0;34m(\u001b[0m\u001b[0mself\u001b[0m\u001b[0;34m,\u001b[0m \u001b[0murl\u001b[0m\u001b[0;34m,\u001b[0m \u001b[0;34m**\u001b[0m\u001b[0mkwargs\u001b[0m\u001b[0;34m)\u001b[0m\u001b[0;34m:\u001b[0m\u001b[0;34m\u001b[0m\u001b[0;34m\u001b[0m\u001b[0m\n",
      "\u001b[0;32m~/.conda/envs/lfrenderer/lib/python3.8/site-packages/boxsdk/session/session.py\u001b[0m in \u001b[0;36mrequest\u001b[0;34m(self, method, url, **kwargs)\u001b[0m\n\u001b[1;32m    156\u001b[0m             \u001b[0;31m`\u001b[0m\u001b[0municode\u001b[0m\u001b[0;31m`\u001b[0m\u001b[0;34m\u001b[0m\u001b[0;34m\u001b[0m\u001b[0m\n\u001b[1;32m    157\u001b[0m         \"\"\"\n\u001b[0;32m--> 158\u001b[0;31m         \u001b[0mresponse\u001b[0m \u001b[0;34m=\u001b[0m \u001b[0mself\u001b[0m\u001b[0;34m.\u001b[0m\u001b[0m_prepare_and_send_request\u001b[0m\u001b[0;34m(\u001b[0m\u001b[0mmethod\u001b[0m\u001b[0;34m,\u001b[0m \u001b[0murl\u001b[0m\u001b[0;34m,\u001b[0m \u001b[0;34m**\u001b[0m\u001b[0mkwargs\u001b[0m\u001b[0;34m)\u001b[0m\u001b[0;34m\u001b[0m\u001b[0;34m\u001b[0m\u001b[0m\n\u001b[0m\u001b[1;32m    159\u001b[0m         \u001b[0;32mreturn\u001b[0m \u001b[0mself\u001b[0m\u001b[0;34m.\u001b[0m\u001b[0mbox_response_constructor\u001b[0m\u001b[0;34m(\u001b[0m\u001b[0mresponse\u001b[0m\u001b[0;34m)\u001b[0m\u001b[0;34m\u001b[0m\u001b[0;34m\u001b[0m\u001b[0m\n\u001b[1;32m    160\u001b[0m \u001b[0;34m\u001b[0m\u001b[0m\n",
      "\u001b[0;32m~/.conda/envs/lfrenderer/lib/python3.8/site-packages/boxsdk/session/session.py\u001b[0m in \u001b[0;36m_prepare_and_send_request\u001b[0;34m(self, method, url, headers, auto_session_renewal, expect_json_response, **kwargs)\u001b[0m\n\u001b[1;32m    395\u001b[0m \u001b[0;34m\u001b[0m\u001b[0m\n\u001b[1;32m    396\u001b[0m         \u001b[0;32mwhile\u001b[0m \u001b[0;32mTrue\u001b[0m\u001b[0;34m:\u001b[0m\u001b[0;34m\u001b[0m\u001b[0;34m\u001b[0m\u001b[0m\n\u001b[0;32m--> 397\u001b[0;31m             \u001b[0mretry\u001b[0m \u001b[0;34m=\u001b[0m \u001b[0mself\u001b[0m\u001b[0;34m.\u001b[0m\u001b[0m_get_retry_request_callable\u001b[0m\u001b[0;34m(\u001b[0m\u001b[0mnetwork_response\u001b[0m\u001b[0;34m,\u001b[0m \u001b[0mattempt_number\u001b[0m\u001b[0;34m,\u001b[0m \u001b[0mrequest\u001b[0m\u001b[0;34m,\u001b[0m \u001b[0;34m**\u001b[0m\u001b[0mkwargs\u001b[0m\u001b[0;34m)\u001b[0m\u001b[0;34m\u001b[0m\u001b[0;34m\u001b[0m\u001b[0m\n\u001b[0m\u001b[1;32m    398\u001b[0m \u001b[0;34m\u001b[0m\u001b[0m\n\u001b[1;32m    399\u001b[0m             \u001b[0;32mif\u001b[0m \u001b[0mretry\u001b[0m \u001b[0;32mis\u001b[0m \u001b[0;32mNone\u001b[0m \u001b[0;32mor\u001b[0m \u001b[0mattempt_number\u001b[0m \u001b[0;34m>=\u001b[0m \u001b[0mAPI\u001b[0m\u001b[0;34m.\u001b[0m\u001b[0mMAX_RETRY_ATTEMPTS\u001b[0m\u001b[0;34m:\u001b[0m\u001b[0;34m\u001b[0m\u001b[0;34m\u001b[0m\u001b[0m\n",
      "\u001b[0;32m~/.conda/envs/lfrenderer/lib/python3.8/site-packages/boxsdk/session/session.py\u001b[0m in \u001b[0;36m_get_retry_request_callable\u001b[0;34m(self, network_response, attempt_number, request, **kwargs)\u001b[0m\n\u001b[1;32m    588\u001b[0m         \u001b[0mcode\u001b[0m \u001b[0;34m=\u001b[0m \u001b[0mnetwork_response\u001b[0m\u001b[0;34m.\u001b[0m\u001b[0mstatus_code\u001b[0m\u001b[0;34m\u001b[0m\u001b[0;34m\u001b[0m\u001b[0m\n\u001b[1;32m    589\u001b[0m         \u001b[0;32mif\u001b[0m \u001b[0mcode\u001b[0m \u001b[0;34m==\u001b[0m \u001b[0;36m401\u001b[0m \u001b[0;32mand\u001b[0m \u001b[0mrequest\u001b[0m\u001b[0;34m.\u001b[0m\u001b[0mauto_session_renewal\u001b[0m\u001b[0;34m:\u001b[0m\u001b[0;34m\u001b[0m\u001b[0;34m\u001b[0m\u001b[0m\n\u001b[0;32m--> 590\u001b[0;31m             \u001b[0mself\u001b[0m\u001b[0;34m.\u001b[0m\u001b[0m_renew_session\u001b[0m\u001b[0;34m(\u001b[0m\u001b[0mnetwork_response\u001b[0m\u001b[0;34m.\u001b[0m\u001b[0maccess_token_used\u001b[0m\u001b[0;34m)\u001b[0m\u001b[0;34m\u001b[0m\u001b[0;34m\u001b[0m\u001b[0m\n\u001b[0m\u001b[1;32m    591\u001b[0m             \u001b[0mrequest\u001b[0m\u001b[0;34m.\u001b[0m\u001b[0mauto_session_renewal\u001b[0m \u001b[0;34m=\u001b[0m \u001b[0;32mFalse\u001b[0m\u001b[0;34m\u001b[0m\u001b[0;34m\u001b[0m\u001b[0m\n\u001b[1;32m    592\u001b[0m             \u001b[0;32mreturn\u001b[0m \u001b[0mself\u001b[0m\u001b[0;34m.\u001b[0m\u001b[0m_send_request\u001b[0m\u001b[0;34m\u001b[0m\u001b[0;34m\u001b[0m\u001b[0m\n",
      "\u001b[0;32m~/.conda/envs/lfrenderer/lib/python3.8/site-packages/boxsdk/session/session.py\u001b[0m in \u001b[0;36m_renew_session\u001b[0;34m(self, access_token_used)\u001b[0m\n\u001b[1;32m    558\u001b[0m             \u001b[0;31m`\u001b[0m\u001b[0municode\u001b[0m\u001b[0;31m`\u001b[0m \u001b[0;32mor\u001b[0m \u001b[0;32mNone\u001b[0m\u001b[0;34m\u001b[0m\u001b[0;34m\u001b[0m\u001b[0m\n\u001b[1;32m    559\u001b[0m         \"\"\"\n\u001b[0;32m--> 560\u001b[0;31m         \u001b[0mnew_access_token\u001b[0m\u001b[0;34m,\u001b[0m \u001b[0m_\u001b[0m \u001b[0;34m=\u001b[0m \u001b[0mself\u001b[0m\u001b[0;34m.\u001b[0m\u001b[0m_oauth\u001b[0m\u001b[0;34m.\u001b[0m\u001b[0mrefresh\u001b[0m\u001b[0;34m(\u001b[0m\u001b[0maccess_token_used\u001b[0m\u001b[0;34m)\u001b[0m\u001b[0;34m\u001b[0m\u001b[0;34m\u001b[0m\u001b[0m\n\u001b[0m\u001b[1;32m    561\u001b[0m         \u001b[0;32mreturn\u001b[0m \u001b[0mnew_access_token\u001b[0m\u001b[0;34m\u001b[0m\u001b[0;34m\u001b[0m\u001b[0m\n\u001b[1;32m    562\u001b[0m \u001b[0;34m\u001b[0m\u001b[0m\n",
      "\u001b[0;32m~/.conda/envs/lfrenderer/lib/python3.8/site-packages/boxsdk/auth/oauth2.py\u001b[0m in \u001b[0;36mrefresh\u001b[0;34m(self, access_token_to_refresh)\u001b[0m\n\u001b[1;32m    264\u001b[0m                 \u001b[0;31m# be refreshed, or if we don't currently have any active access\u001b[0m\u001b[0;34m\u001b[0m\u001b[0;34m\u001b[0m\u001b[0;34m\u001b[0m\u001b[0m\n\u001b[1;32m    265\u001b[0m                 \u001b[0;31m# token, we make the request to refresh the token.\u001b[0m\u001b[0;34m\u001b[0m\u001b[0;34m\u001b[0m\u001b[0;34m\u001b[0m\u001b[0m\n\u001b[0;32m--> 266\u001b[0;31m                 \u001b[0maccess_token\u001b[0m\u001b[0;34m,\u001b[0m \u001b[0mrefresh_token\u001b[0m \u001b[0;34m=\u001b[0m \u001b[0mself\u001b[0m\u001b[0;34m.\u001b[0m\u001b[0m_refresh\u001b[0m\u001b[0;34m(\u001b[0m\u001b[0maccess_token_to_refresh\u001b[0m\u001b[0;34m)\u001b[0m\u001b[0;34m\u001b[0m\u001b[0;34m\u001b[0m\u001b[0m\n\u001b[0m\u001b[1;32m    267\u001b[0m             \u001b[0;31m# Else, if the active access token (self._access_token) is not the same as the token needs to be refreshed,\u001b[0m\u001b[0;34m\u001b[0m\u001b[0;34m\u001b[0m\u001b[0;34m\u001b[0m\u001b[0m\n\u001b[1;32m    268\u001b[0m             \u001b[0;31m# it means the expired token has already been refreshed. Simply return the current active tokens.\u001b[0m\u001b[0;34m\u001b[0m\u001b[0;34m\u001b[0m\u001b[0;34m\u001b[0m\u001b[0m\n",
      "\u001b[0;32m~/.conda/envs/lfrenderer/lib/python3.8/site-packages/boxsdk/auth/oauth2.py\u001b[0m in \u001b[0;36m_refresh\u001b[0;34m(self, access_token)\u001b[0m\n\u001b[1;32m    216\u001b[0m             \u001b[0mdata\u001b[0m\u001b[0;34m[\u001b[0m\u001b[0;34m'box_device_name'\u001b[0m\u001b[0;34m]\u001b[0m \u001b[0;34m=\u001b[0m \u001b[0mself\u001b[0m\u001b[0;34m.\u001b[0m\u001b[0m_box_device_name\u001b[0m\u001b[0;34m\u001b[0m\u001b[0;34m\u001b[0m\u001b[0m\n\u001b[1;32m    217\u001b[0m \u001b[0;34m\u001b[0m\u001b[0m\n\u001b[0;32m--> 218\u001b[0;31m         \u001b[0;32mreturn\u001b[0m \u001b[0mself\u001b[0m\u001b[0;34m.\u001b[0m\u001b[0msend_token_request\u001b[0m\u001b[0;34m(\u001b[0m\u001b[0mdata\u001b[0m\u001b[0;34m,\u001b[0m \u001b[0maccess_token\u001b[0m\u001b[0;34m)\u001b[0m\u001b[0;34m\u001b[0m\u001b[0;34m\u001b[0m\u001b[0m\n\u001b[0m\u001b[1;32m    219\u001b[0m \u001b[0;34m\u001b[0m\u001b[0m\n\u001b[1;32m    220\u001b[0m     \u001b[0;32mdef\u001b[0m \u001b[0m_get_tokens\u001b[0m\u001b[0;34m(\u001b[0m\u001b[0mself\u001b[0m\u001b[0;34m)\u001b[0m\u001b[0;34m:\u001b[0m\u001b[0;34m\u001b[0m\u001b[0;34m\u001b[0m\u001b[0m\n",
      "\u001b[0;32m~/.conda/envs/lfrenderer/lib/python3.8/site-packages/boxsdk/auth/oauth2.py\u001b[0m in \u001b[0;36msend_token_request\u001b[0;34m(self, data, access_token, expect_refresh_token)\u001b[0m\n\u001b[1;32m    399\u001b[0m             \u001b[0;34m(\u001b[0m\u001b[0;31m`\u001b[0m\u001b[0municode\u001b[0m\u001b[0;31m`\u001b[0m\u001b[0;34m,\u001b[0m\u001b[0;31m \u001b[0m\u001b[0;31m`\u001b[0m\u001b[0municode\u001b[0m\u001b[0;31m`\u001b[0m\u001b[0;34m)\u001b[0m\u001b[0;34m\u001b[0m\u001b[0;34m\u001b[0m\u001b[0m\n\u001b[1;32m    400\u001b[0m         \"\"\"\n\u001b[0;32m--> 401\u001b[0;31m         \u001b[0mtoken_response\u001b[0m \u001b[0;34m=\u001b[0m \u001b[0mself\u001b[0m\u001b[0;34m.\u001b[0m\u001b[0m_execute_token_request\u001b[0m\u001b[0;34m(\u001b[0m\u001b[0mdata\u001b[0m\u001b[0;34m,\u001b[0m \u001b[0maccess_token\u001b[0m\u001b[0;34m,\u001b[0m \u001b[0mexpect_refresh_token\u001b[0m\u001b[0;34m)\u001b[0m\u001b[0;34m\u001b[0m\u001b[0;34m\u001b[0m\u001b[0m\n\u001b[0m\u001b[1;32m    402\u001b[0m         \u001b[0;31m# pylint:disable=no-member\u001b[0m\u001b[0;34m\u001b[0m\u001b[0;34m\u001b[0m\u001b[0;34m\u001b[0m\u001b[0m\n\u001b[1;32m    403\u001b[0m         \u001b[0mrefresh_token\u001b[0m \u001b[0;34m=\u001b[0m \u001b[0mtoken_response\u001b[0m\u001b[0;34m.\u001b[0m\u001b[0mrefresh_token\u001b[0m \u001b[0;32mif\u001b[0m \u001b[0;34m'refresh_token'\u001b[0m \u001b[0;32min\u001b[0m \u001b[0mtoken_response\u001b[0m \u001b[0;32melse\u001b[0m \u001b[0;32mNone\u001b[0m\u001b[0;34m\u001b[0m\u001b[0;34m\u001b[0m\u001b[0m\n",
      "\u001b[0;32m~/.conda/envs/lfrenderer/lib/python3.8/site-packages/boxsdk/auth/oauth2.py\u001b[0m in \u001b[0;36m_execute_token_request\u001b[0;34m(self, data, access_token, expect_refresh_token)\u001b[0m\n\u001b[1;32m    345\u001b[0m             )\n\u001b[1;32m    346\u001b[0m         \u001b[0;32mexcept\u001b[0m \u001b[0mBoxAPIException\u001b[0m \u001b[0;32mas\u001b[0m \u001b[0mbox_api_exception\u001b[0m\u001b[0;34m:\u001b[0m\u001b[0;34m\u001b[0m\u001b[0;34m\u001b[0m\u001b[0m\n\u001b[0;32m--> 347\u001b[0;31m             \u001b[0msix\u001b[0m\u001b[0;34m.\u001b[0m\u001b[0mraise_from\u001b[0m\u001b[0;34m(\u001b[0m\u001b[0mself\u001b[0m\u001b[0;34m.\u001b[0m\u001b[0m_oauth_exception\u001b[0m\u001b[0;34m(\u001b[0m\u001b[0mbox_api_exception\u001b[0m\u001b[0;34m.\u001b[0m\u001b[0mnetwork_response\u001b[0m\u001b[0;34m,\u001b[0m \u001b[0murl\u001b[0m\u001b[0;34m)\u001b[0m\u001b[0;34m,\u001b[0m \u001b[0mbox_api_exception\u001b[0m\u001b[0;34m)\u001b[0m\u001b[0;34m\u001b[0m\u001b[0;34m\u001b[0m\u001b[0m\n\u001b[0m\u001b[1;32m    348\u001b[0m         \u001b[0;32mif\u001b[0m \u001b[0;32mnot\u001b[0m \u001b[0mnetwork_response\u001b[0m\u001b[0;34m.\u001b[0m\u001b[0mok\u001b[0m\u001b[0;34m:\u001b[0m\u001b[0;34m\u001b[0m\u001b[0;34m\u001b[0m\u001b[0m\n\u001b[1;32m    349\u001b[0m             \u001b[0;32mraise\u001b[0m \u001b[0mself\u001b[0m\u001b[0;34m.\u001b[0m\u001b[0m_oauth_exception\u001b[0m\u001b[0;34m(\u001b[0m\u001b[0mnetwork_response\u001b[0m\u001b[0;34m,\u001b[0m \u001b[0murl\u001b[0m\u001b[0;34m)\u001b[0m\u001b[0;34m\u001b[0m\u001b[0;34m\u001b[0m\u001b[0m\n",
      "\u001b[0;32m~/.conda/envs/lfrenderer/lib/python3.8/site-packages/six.py\u001b[0m in \u001b[0;36mraise_from\u001b[0;34m(value, from_value)\u001b[0m\n",
      "\u001b[0;31mBoxOAuthException\u001b[0m: \nMessage: The client credentials are invalid\nStatus: 400\nURL: https://api.box.com/oauth2/token\nMethod: POST\nHeaders: {'Date': 'Fri, 23 Apr 2021 17:29:23 GMT', 'Content-Type': 'application/json', 'Transfer-Encoding': 'chunked', 'Connection': 'keep-alive', 'Strict-Transport-Security': 'max-age=31536000', 'Set-Cookie': 'box_visitor_id=608303f35fc5a2.30038316; expires=Sat, 23-Apr-2022 17:29:23 GMT; Max-Age=31536000; path=/; domain=.box.com; secure, bv=OPS-44412; expires=Fri, 30-Apr-2021 17:29:23 GMT; Max-Age=604800; path=/; domain=.app.box.com; secure, cn=60; expires=Sat, 23-Apr-2022 17:29:23 GMT; Max-Age=31536000; path=/; domain=.app.box.com; secure, site_preference=desktop; path=/; domain=.box.com; secure', 'Cache-Control': 'no-store'}"
     ]
    }
   ],
   "source": [
    "from boxsdk import DevelopmentClient, OAuth2, Client\n",
    "from boxsdk.network.default_network import DefaultNetwork\n",
    "import shutil\n",
    "\n",
    "\n",
    "# Define client ID, client secret, and developer token.\n",
    "CLIENT_ID = None\n",
    "CLIENT_SECRET = None\n",
    "ACCESS_TOKEN = None\n",
    "\n",
    "# Read app info from text file\n",
    "with open('box_credentials.txt', 'r') as app_cfg:\n",
    "    \"\"\"\n",
    "    This is a .txt file with 3 lines\n",
    "    CLIENT_ID\n",
    "    CLIENT_SECRET\n",
    "    ACCESS_TOKEN (the developer token)\n",
    "    find at https://northwestern.app.box.com/developers/console/app/1484448/configuration \n",
    "    \"\"\"\n",
    "    CLIENT_ID = app_cfg.readline()\n",
    "    CLIENT_SECRET = app_cfg.readline()\n",
    "    ACCESS_TOKEN = app_cfg.readline()\n",
    "\n",
    "oauth2 = OAuth2(CLIENT_ID, CLIENT_SECRET, access_token=ACCESS_TOKEN)\n",
    "\n",
    "# Create the authenticated client\n",
    "client = Client(oauth2)\n",
    "root_folder = client.folder('0').get()"
   ]
  },
  {
   "cell_type": "code",
   "execution_count": 79,
   "metadata": {},
   "outputs": [
    {
     "name": "stdout",
     "output_type": "stream",
     "text": [
      "<Box Folder - 132537575926 (20200227_ZWO_LaserDiode_250umStepsize_16bitTIFF)>\n",
      "<Box Folder - 89719244986 (Lab2)>\n",
      "<Box Folder - 90717384311 (Lab3)>\n",
      "<Box Folder - 90852525215 (Lab4)>\n",
      "<Box Folder - 123651585740 (LensCalibrated_6s)>\n",
      "<Box Folder - 133978744306 (LensCalibration_50mm_F22_0.7mFocus)>\n",
      "<Box Folder - 88717684651 (PhysLabs)>\n",
      "<Box File - 543373197663 (200gCartFan.cap)>\n",
      "<Box File - 564856721296 (asimetric.csv)>\n",
      "<Box File - 564835203299 (asimetric.xlsx)>\n",
      "<Box File - 535412361488 (CIMG4595.MOV)>\n",
      "<Box File - 535418148265 (CIMG4597.MOV)>\n",
      "<Box File - 535800169673 (DataSheet.xlsx)>\n",
      "<Box File - 535423343562 (Lab1 Vid.mp4)>\n",
      "<Box File - 564841457870 (normal 1.csv)>\n",
      "<Box File - 564845324545 (normal 1.xlsx)>\n",
      "<Box File - 564836271331 (normal 2.csv)>\n",
      "<Box File - 564857130879 (normal 2.txt)>\n",
      "<Box File - 564853974345 (normal 2.xlsx)>\n",
      "<Box File - 564835075293 (simetric.csv)>\n",
      "<Box File - 564857197579 (simetric.xlsx)>\n",
      "<Box File - 535429815426 (vlc-record-2019-10-05-11h46m55s-Lab1 Vid.mp4-.mp4)>\n"
     ]
    }
   ],
   "source": [
    "target_folder = None\n",
    "\n",
    "for item in root_folder.get_items():\n",
    "    print(item)\n",
    "    if item.name==\"LensCalibrated_6s\":\n",
    "        target_folder = item"
   ]
  },
  {
   "cell_type": "code",
   "execution_count": 80,
   "metadata": {},
   "outputs": [
    {
     "data": {
      "text/plain": [
       "<Box File - 797172029004 (benton_train_with_markers.zip)>"
      ]
     },
     "execution_count": 80,
     "metadata": {},
     "output_type": "execute_result"
    }
   ],
   "source": [
    "#make a new folder for the rendered views\n",
    "shutil.make_archive(\"tmp\", 'zip', output_folder)\n",
    "\n",
    "#upload zip to box\n",
    "target_folder.upload(\"tmp.zip\", output_folder.name+\".zip\")"
   ]
  }
 ],
 "metadata": {
  "kernelspec": {
   "display_name": "Python (lfrenderer)",
   "language": "python",
   "name": "zlfrenderer"
  },
  "language_info": {
   "codemirror_mode": {
    "name": "ipython",
    "version": 3
   },
   "file_extension": ".py",
   "mimetype": "text/x-python",
   "name": "python",
   "nbconvert_exporter": "python",
   "pygments_lexer": "ipython3",
   "version": "3.8.3"
  }
 },
 "nbformat": 4,
 "nbformat_minor": 4
}
